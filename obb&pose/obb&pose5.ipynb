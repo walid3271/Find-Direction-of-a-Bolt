{
  "cells": [
    {
      "cell_type": "code",
      "execution_count": 31,
      "metadata": {
        "id": "1NEflhFRTivZ"
      },
      "outputs": [],
      "source": [
        "# from google.colab import drive\n",
        "# drive.mount('/content/drive')"
      ]
    },
    {
      "cell_type": "code",
      "execution_count": 32,
      "metadata": {
        "id": "rVpIXBtdTrFF"
      },
      "outputs": [],
      "source": [
        "# !pip install ultralytics -q"
      ]
    },
    {
      "cell_type": "code",
      "execution_count": 33,
      "metadata": {
        "id": "2bmQChDeTrdN"
      },
      "outputs": [],
      "source": [
        "from ultralytics import YOLO\n",
        "import cv2\n",
        "import numpy as np\n",
        "from google.colab.patches import cv2_imshow\n",
        "import math"
      ]
    },
    {
      "cell_type": "code",
      "execution_count": 34,
      "metadata": {
        "id": "xgHk7WQETtuE"
      },
      "outputs": [],
      "source": [
        "image_path = [\n",
        "    \"/content/drive/MyDrive/Projects/japan/bolt/Image-2024-03-27-13-42-44-png-rf-91f7dde07ae4db4bb3a222f73c448e21.jpg\",\n",
        "    \"/content/drive/MyDrive/Projects/japan/bolt/Image__2024-03-27__13-42-52.png\",\n",
        "    \"/content/drive/MyDrive/Projects/japan/bolt/Image__2024-03-27__13-42-27.png\",\n",
        "    \"/content/drive/MyDrive/Projects/japan/bolt/Image__2024-03-27__13-43-22.png\",\n",
        "    ]"
      ]
    },
    {
      "cell_type": "code",
      "execution_count": 35,
      "metadata": {
        "id": "d8bwS-SmTveO"
      },
      "outputs": [],
      "source": [
        "pose_model = YOLO(\"/content/drive/MyDrive/Projects/japan/pose/best.pt\")\n",
        "obb_model = YOLO(\"/content/drive/MyDrive/Projects/japan/obb/best1.pt\")\n",
        "\n",
        "model = [obb_model,pose_model]"
      ]
    },
    {
      "cell_type": "code",
      "execution_count": 36,
      "metadata": {
        "colab": {
          "base_uri": "https://localhost:8080/"
        },
        "id": "ug__3tETglMa",
        "outputId": "1b6fad7c-9f53-4515-a937-d50524042142"
      },
      "outputs": [
        {
          "output_type": "stream",
          "name": "stdout",
          "text": [
            "\n",
            "image 1/1 /content/drive/MyDrive/Projects/japan/bolt/Image-2024-03-27-13-42-44-png-rf-91f7dde07ae4db4bb3a222f73c448e21.jpg: 640x640 255.8ms\n",
            "Speed: 3.2ms preprocess, 255.8ms inference, 1.6ms postprocess per image at shape (1, 3, 640, 640)\n",
            "\n",
            "image 1/1 /content/drive/MyDrive/Projects/japan/bolt/Image-2024-03-27-13-42-44-png-rf-91f7dde07ae4db4bb3a222f73c448e21.jpg: 640x640 3 Bolts, 214.8ms\n",
            "Speed: 3.0ms preprocess, 214.8ms inference, 1.1ms postprocess per image at shape (1, 3, 640, 640)\n",
            "[{'Center': {'X': 215, 'Y': 137}, 'Angle': '46.10'}, {'Center': {'X': 153, 'Y': 452}, 'Angle': '203.96'}, {'Center': {'X': 385, 'Y': 314}, 'Angle': '125.36'}]\n",
            "\n",
            "image 1/1 /content/drive/MyDrive/Projects/japan/bolt/Image__2024-03-27__13-42-52.png: 480x640 174.2ms\n",
            "Speed: 3.9ms preprocess, 174.2ms inference, 2.3ms postprocess per image at shape (1, 3, 480, 640)\n",
            "\n",
            "image 1/1 /content/drive/MyDrive/Projects/japan/bolt/Image__2024-03-27__13-42-52.png: 480x640 1 Bolt, 212.2ms\n",
            "Speed: 4.2ms preprocess, 212.2ms inference, 1.7ms postprocess per image at shape (1, 3, 480, 640)\n",
            "[{'Center': {'X': 603, 'Y': 954}, 'Angle': '138.59'}]\n",
            "\n",
            "image 1/1 /content/drive/MyDrive/Projects/japan/bolt/Image__2024-03-27__13-42-27.png: 480x640 269.6ms\n",
            "Speed: 4.8ms preprocess, 269.6ms inference, 2.0ms postprocess per image at shape (1, 3, 480, 640)\n",
            "\n",
            "image 1/1 /content/drive/MyDrive/Projects/japan/bolt/Image__2024-03-27__13-42-27.png: 480x640 1 Bolt, 256.7ms\n",
            "Speed: 6.2ms preprocess, 256.7ms inference, 1.4ms postprocess per image at shape (1, 3, 480, 640)\n",
            "[{'Center': {'X': 501, 'Y': 1298}, 'Angle': '32.20'}]\n",
            "\n",
            "image 1/1 /content/drive/MyDrive/Projects/japan/bolt/Image__2024-03-27__13-43-22.png: 480x640 251.1ms\n",
            "Speed: 4.9ms preprocess, 251.1ms inference, 2.0ms postprocess per image at shape (1, 3, 480, 640)\n",
            "\n",
            "image 1/1 /content/drive/MyDrive/Projects/japan/bolt/Image__2024-03-27__13-43-22.png: 480x640 1 Bolt, 249.6ms\n",
            "Speed: 6.6ms preprocess, 249.6ms inference, 1.4ms postprocess per image at shape (1, 3, 480, 640)\n",
            "[{'Center': {'X': 1635, 'Y': 1020}, 'Angle': '322.44'}]\n"
          ]
        }
      ],
      "source": [
        "def line_angle(x1, y1, x2, y2):\n",
        "    dx = x2 - x1\n",
        "    dy = y2 - y1\n",
        "    return math.atan2(dy, dx)\n",
        "\n",
        "def CenterAndAngle(img,model):\n",
        "  dec = []\n",
        "  obb_predict = model[0].predict(img)\n",
        "  pose_predict = model[1].predict(img)\n",
        "  obb_points = obb_predict[0].obb.xyxyxyxy.cpu().numpy().astype(int)\n",
        "  pose_points = pose_predict[0].keypoints.xy.cpu().numpy().astype(int)\n",
        "\n",
        "\n",
        "  for obb_point in obb_points:\n",
        "\n",
        "    # Find Top Mid point\n",
        "    xmidtop = int((obb_point[0][0] + obb_point[1][0]) / 2)\n",
        "    ymidtop = int((obb_point[0][1] + obb_point[1][1]) / 2)\n",
        "\n",
        "    # Find Bottom Mid point\n",
        "    xmidbot = int((obb_point[2][0] + obb_point[3][0]) / 2)\n",
        "    ymidbot = int((obb_point[2][1] + obb_point[3][1]) / 2)\n",
        "\n",
        "    # Find Center point\n",
        "    xmidmid = int((xmidtop + xmidbot) / 2)\n",
        "    ymidmid = int((ymidtop + ymidbot) / 2)\n",
        "\n",
        "    closest_point = {}\n",
        "    for pose_point in pose_points:\n",
        "      X = int (abs(pose_point[0][0]-xmidmid))\n",
        "      Y = int (abs(pose_point[0][1]-ymidmid))\n",
        "      D = X+Y\n",
        "      closest_point.update({D:pose_point})\n",
        "\n",
        "    min_D = min(closest_point.keys())\n",
        "    pose_point = closest_point[min_D]\n",
        "\n",
        "    # Calculate ManHattan Distance From POSE Head\n",
        "    p1 = int (abs(pose_point[0][0]-obb_point[0][0]))\n",
        "    q1 = int (abs(pose_point[0][1]-obb_point[0][1]))\n",
        "    p2 = int (abs(pose_point[0][0]-obb_point[3][0]))\n",
        "    q2 = int (abs(pose_point[0][1]-obb_point[3][1]))\n",
        "    d1 = p1+q1\n",
        "    d2 = p2+q2\n",
        "\n",
        "    if d1<d2:\n",
        "      cx = xmidtop\n",
        "      cy = ymidtop\n",
        "\n",
        "    else:\n",
        "      cx = xmidbot\n",
        "      cy = ymidbot\n",
        "\n",
        "    angle_redious = line_angle(xmidmid, ymidmid, cx, cy)\n",
        "\n",
        "    angle = -1*(math.degrees(angle_redious))\n",
        "\n",
        "    if angle<0:\n",
        "      angle = 360+angle\n",
        "\n",
        "    dec.append({\"Center\": {\"X\": xmidmid,\"Y\": ymidmid},\"Angle\": \"{:.2f}\".format(angle)})\n",
        "\n",
        "  return dec\n",
        "\n",
        "\n",
        "for img in image_path:\n",
        " print(CenterAndAngle(img,model))"
      ]
    }
  ],
  "metadata": {
    "accelerator": "GPU",
    "colab": {
      "gpuType": "T4",
      "provenance": []
    },
    "kernelspec": {
      "display_name": "Python 3",
      "name": "python3"
    },
    "language_info": {
      "name": "python"
    }
  },
  "nbformat": 4,
  "nbformat_minor": 0
}